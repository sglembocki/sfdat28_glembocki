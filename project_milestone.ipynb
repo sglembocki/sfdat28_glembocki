{
 "cells": [
  {
   "cell_type": "code",
   "execution_count": 1,
   "metadata": {
    "collapsed": true
   },
   "outputs": [],
   "source": [
    "#natural language processing to predict field failure modes"
   ]
  },
  {
   "cell_type": "code",
   "execution_count": 2,
   "metadata": {
    "collapsed": true
   },
   "outputs": [],
   "source": [
    "import pandas as pd"
   ]
  },
  {
   "cell_type": "code",
   "execution_count": 3,
   "metadata": {
    "collapsed": true
   },
   "outputs": [],
   "source": [
    "import seaborn as sns"
   ]
  },
  {
   "cell_type": "code",
   "execution_count": 4,
   "metadata": {
    "collapsed": true
   },
   "outputs": [],
   "source": [
    "from sklearn.cross_validation import train_test_split"
   ]
  },
  {
   "cell_type": "code",
   "execution_count": 5,
   "metadata": {
    "collapsed": true
   },
   "outputs": [],
   "source": [
    "from sklearn.feature_extraction.text import CountVectorizer, TfidfVectorizer"
   ]
  },
  {
   "cell_type": "code",
   "execution_count": 6,
   "metadata": {
    "collapsed": true
   },
   "outputs": [],
   "source": [
    "from sklearn.naive_bayes import MultinomialNB"
   ]
  },
  {
   "cell_type": "code",
   "execution_count": 7,
   "metadata": {
    "collapsed": true
   },
   "outputs": [],
   "source": [
    "from sklearn import metrics"
   ]
  },
  {
   "cell_type": "code",
   "execution_count": 8,
   "metadata": {
    "collapsed": true
   },
   "outputs": [],
   "source": [
    "import numpy as np"
   ]
  },
  {
   "cell_type": "code",
   "execution_count": 9,
   "metadata": {
    "collapsed": true
   },
   "outputs": [],
   "source": [
    "from textblob import TextBlob, Word"
   ]
  },
  {
   "cell_type": "code",
   "execution_count": 10,
   "metadata": {
    "collapsed": true
   },
   "outputs": [],
   "source": [
    "from nltk.stem.snowball import SnowballStemmer"
   ]
  },
  {
   "cell_type": "code",
   "execution_count": 11,
   "metadata": {
    "collapsed": true
   },
   "outputs": [],
   "source": [
    "#define fuctions"
   ]
  },
  {
   "cell_type": "code",
   "execution_count": 12,
   "metadata": {
    "collapsed": true
   },
   "outputs": [],
   "source": [
    "def word_tokenize(text, how = 'lemma'):\n",
    "    words = TextBlob(text).words\n",
    "    if how == 'lemma':\n",
    "        return [word.lemmatize() for word in words]\n",
    "    elif how == 'stem':\n",
    "        return [stemmer.stem(word) for word in words]"
   ]
  },
  {
   "cell_type": "code",
   "execution_count": 13,
   "metadata": {
    "collapsed": true
   },
   "outputs": [],
   "source": [
    "#read in csv file"
   ]
  },
  {
   "cell_type": "code",
   "execution_count": 14,
   "metadata": {
    "collapsed": false
   },
   "outputs": [],
   "source": [
    "df = pd.read_csv('C:\\Users\\sglembocki\\Documents\\Excel Files\\FaultModeNaturalLanguageProcessingRev2.csv')"
   ]
  },
  {
   "cell_type": "code",
   "execution_count": null,
   "metadata": {
    "collapsed": true
   },
   "outputs": [],
   "source": [
    "#delete unused fields"
   ]
  },
  {
   "cell_type": "code",
   "execution_count": 15,
   "metadata": {
    "collapsed": true
   },
   "outputs": [],
   "source": [
    "del df['JobID']"
   ]
  },
  {
   "cell_type": "code",
   "execution_count": null,
   "metadata": {
    "collapsed": true
   },
   "outputs": [],
   "source": [
    "del df['CorrectionCode']"
   ]
  },
  {
   "cell_type": "code",
   "execution_count": 16,
   "metadata": {
    "collapsed": false
   },
   "outputs": [],
   "source": [
    "df = df.dropna()"
   ]
  },
  {
   "cell_type": "code",
   "execution_count": 17,
   "metadata": {
    "collapsed": true
   },
   "outputs": [],
   "source": [
    "#create a new field that combines all other features of interest"
   ]
  },
  {
   "cell_type": "code",
   "execution_count": 18,
   "metadata": {
    "collapsed": true
   },
   "outputs": [],
   "source": [
    "df['All'] = df['ComplaintNarrative'] + ' ' + df['CauseDescription'] + ' ' + df['CauseNarrative'] + ' ' + df['CorrectionDescription'] + ' ' + df['CorrectionNarrative'] + ' ' + df['RollupSymptom']"
   ]
  },
  {
   "cell_type": "code",
   "execution_count": 19,
   "metadata": {
    "collapsed": false
   },
   "outputs": [
    {
     "data": {
      "text/html": [
       "<div>\n",
       "<table border=\"1\" class=\"dataframe\">\n",
       "  <thead>\n",
       "    <tr style=\"text-align: right;\">\n",
       "      <th></th>\n",
       "      <th>ComplaintNarrative</th>\n",
       "      <th>CauseDescription</th>\n",
       "      <th>CauseNarrative</th>\n",
       "      <th>CorrectionCode</th>\n",
       "      <th>CorrectionDescription</th>\n",
       "      <th>CorrectionNarrative</th>\n",
       "      <th>FaultModeID</th>\n",
       "      <th>FailureMode</th>\n",
       "      <th>RollupSymptom</th>\n",
       "      <th>All</th>\n",
       "    </tr>\n",
       "  </thead>\n",
       "  <tbody>\n",
       "    <tr>\n",
       "      <th>0</th>\n",
       "      <td>Customer states: Customer has advised since th...</td>\n",
       "      <td>No Fault Found / Unable To Replicate</td>\n",
       "      <td>Customer education.</td>\n",
       "      <td>40100004</td>\n",
       "      <td>Rear Motor General Diagnosis</td>\n",
       "      <td>Hill Start Assist automatically engages the\\nb...</td>\n",
       "      <td>5388</td>\n",
       "      <td>Unable to Duplicate Concern</td>\n",
       "      <td>Vehicle rolled backwards while in Drive and on...</td>\n",
       "      <td>Customer states: Customer has advised since th...</td>\n",
       "    </tr>\n",
       "    <tr>\n",
       "      <th>1</th>\n",
       "      <td>Customer states: Vehicle suspension is noisy</td>\n",
       "      <td>No Fault Found / Unable To Replicate</td>\n",
       "      <td>Checked vehicle suspension system, no problems...</td>\n",
       "      <td>00040100</td>\n",
       "      <td>Perform Validation Test Drive</td>\n",
       "      <td>Performed validation test drive.</td>\n",
       "      <td>5388</td>\n",
       "      <td>Unable to Duplicate Concern</td>\n",
       "      <td>Vehicle suspension is noisy</td>\n",
       "      <td>Customer states: Vehicle suspension is noisy N...</td>\n",
       "    </tr>\n",
       "    <tr>\n",
       "      <th>2</th>\n",
       "      <td>Customer states: Vehicle suspension is noisy</td>\n",
       "      <td>No Fault Found / Unable To Replicate</td>\n",
       "      <td>Checked vehicle suspension system, no problems...</td>\n",
       "      <td>31010004</td>\n",
       "      <td>Front Suspension (including Hubs) General Diag...</td>\n",
       "      <td>Checked vehicle suspension system, no problems...</td>\n",
       "      <td>5388</td>\n",
       "      <td>Unable to Duplicate Concern</td>\n",
       "      <td>Vehicle suspension is noisy</td>\n",
       "      <td>Customer states: Vehicle suspension is noisy N...</td>\n",
       "    </tr>\n",
       "    <tr>\n",
       "      <th>3</th>\n",
       "      <td>Customer states vehicle charges for a couple m...</td>\n",
       "      <td>No Fault Found / Unable To Replicate</td>\n",
       "      <td>Customer is having charging issues and cause i...</td>\n",
       "      <td>44010009</td>\n",
       "      <td>Charge System Inlet General Diagnosis Conclusi...</td>\n",
       "      <td>Vehicle is experiencing charging issues. Cause...</td>\n",
       "      <td>5388</td>\n",
       "      <td>Unable to Duplicate Concern</td>\n",
       "      <td>Vehicle charges intermittently</td>\n",
       "      <td>Customer states vehicle charges for a couple m...</td>\n",
       "    </tr>\n",
       "    <tr>\n",
       "      <th>4</th>\n",
       "      <td>Customer states vehicle charges for a couple m...</td>\n",
       "      <td>No Fault Found / Unable To Replicate</td>\n",
       "      <td>Customer is having charging issues and cause i...</td>\n",
       "      <td>44100202</td>\n",
       "      <td>Master Charger - RH - 1st Generation</td>\n",
       "      <td>Charger not installed due to it not being deem...</td>\n",
       "      <td>5388</td>\n",
       "      <td>Unable to Duplicate Concern</td>\n",
       "      <td>Vehicle charges intermittently</td>\n",
       "      <td>Customer states vehicle charges for a couple m...</td>\n",
       "    </tr>\n",
       "  </tbody>\n",
       "</table>\n",
       "</div>"
      ],
      "text/plain": [
       "                                  ComplaintNarrative  \\\n",
       "0  Customer states: Customer has advised since th...   \n",
       "1       Customer states: Vehicle suspension is noisy   \n",
       "2       Customer states: Vehicle suspension is noisy   \n",
       "3  Customer states vehicle charges for a couple m...   \n",
       "4  Customer states vehicle charges for a couple m...   \n",
       "\n",
       "                       CauseDescription  \\\n",
       "0  No Fault Found / Unable To Replicate   \n",
       "1  No Fault Found / Unable To Replicate   \n",
       "2  No Fault Found / Unable To Replicate   \n",
       "3  No Fault Found / Unable To Replicate   \n",
       "4  No Fault Found / Unable To Replicate   \n",
       "\n",
       "                                      CauseNarrative CorrectionCode  \\\n",
       "0                                Customer education.       40100004   \n",
       "1  Checked vehicle suspension system, no problems...       00040100   \n",
       "2  Checked vehicle suspension system, no problems...       31010004   \n",
       "3  Customer is having charging issues and cause i...       44010009   \n",
       "4  Customer is having charging issues and cause i...       44100202   \n",
       "\n",
       "                               CorrectionDescription  \\\n",
       "0                       Rear Motor General Diagnosis   \n",
       "1                      Perform Validation Test Drive   \n",
       "2  Front Suspension (including Hubs) General Diag...   \n",
       "3  Charge System Inlet General Diagnosis Conclusi...   \n",
       "4               Master Charger - RH - 1st Generation   \n",
       "\n",
       "                                 CorrectionNarrative  FaultModeID  \\\n",
       "0  Hill Start Assist automatically engages the\\nb...         5388   \n",
       "1                   Performed validation test drive.         5388   \n",
       "2  Checked vehicle suspension system, no problems...         5388   \n",
       "3  Vehicle is experiencing charging issues. Cause...         5388   \n",
       "4  Charger not installed due to it not being deem...         5388   \n",
       "\n",
       "                   FailureMode  \\\n",
       "0  Unable to Duplicate Concern   \n",
       "1  Unable to Duplicate Concern   \n",
       "2  Unable to Duplicate Concern   \n",
       "3  Unable to Duplicate Concern   \n",
       "4  Unable to Duplicate Concern   \n",
       "\n",
       "                                       RollupSymptom  \\\n",
       "0  Vehicle rolled backwards while in Drive and on...   \n",
       "1                        Vehicle suspension is noisy   \n",
       "2                        Vehicle suspension is noisy   \n",
       "3                     Vehicle charges intermittently   \n",
       "4                     Vehicle charges intermittently   \n",
       "\n",
       "                                                 All  \n",
       "0  Customer states: Customer has advised since th...  \n",
       "1  Customer states: Vehicle suspension is noisy N...  \n",
       "2  Customer states: Vehicle suspension is noisy N...  \n",
       "3  Customer states vehicle charges for a couple m...  \n",
       "4  Customer states vehicle charges for a couple m...  "
      ]
     },
     "execution_count": 19,
     "metadata": {},
     "output_type": "execute_result"
    }
   ],
   "source": [
    "df.head()"
   ]
  },
  {
   "cell_type": "code",
   "execution_count": 20,
   "metadata": {
    "collapsed": true
   },
   "outputs": [],
   "source": [
    "#decode feature column"
   ]
  },
  {
   "cell_type": "code",
   "execution_count": 21,
   "metadata": {
    "collapsed": false
   },
   "outputs": [],
   "source": [
    "df['CorrectionNarrativeRev2'] = df['All'].str.decode('utf-8', errors = 'ignore')"
   ]
  },
  {
   "cell_type": "code",
   "execution_count": 22,
   "metadata": {
    "collapsed": false
   },
   "outputs": [
    {
     "data": {
      "text/html": [
       "<div>\n",
       "<table border=\"1\" class=\"dataframe\">\n",
       "  <thead>\n",
       "    <tr style=\"text-align: right;\">\n",
       "      <th></th>\n",
       "      <th>ComplaintNarrative</th>\n",
       "      <th>CauseDescription</th>\n",
       "      <th>CauseNarrative</th>\n",
       "      <th>CorrectionCode</th>\n",
       "      <th>CorrectionDescription</th>\n",
       "      <th>CorrectionNarrative</th>\n",
       "      <th>FaultModeID</th>\n",
       "      <th>FailureMode</th>\n",
       "      <th>RollupSymptom</th>\n",
       "      <th>All</th>\n",
       "      <th>CorrectionNarrativeRev2</th>\n",
       "    </tr>\n",
       "  </thead>\n",
       "  <tbody>\n",
       "    <tr>\n",
       "      <th>0</th>\n",
       "      <td>Customer states: Customer has advised since th...</td>\n",
       "      <td>No Fault Found / Unable To Replicate</td>\n",
       "      <td>Customer education.</td>\n",
       "      <td>40100004</td>\n",
       "      <td>Rear Motor General Diagnosis</td>\n",
       "      <td>Hill Start Assist automatically engages the\\nb...</td>\n",
       "      <td>5388</td>\n",
       "      <td>Unable to Duplicate Concern</td>\n",
       "      <td>Vehicle rolled backwards while in Drive and on...</td>\n",
       "      <td>Customer states: Customer has advised since th...</td>\n",
       "      <td>Customer states: Customer has advised since th...</td>\n",
       "    </tr>\n",
       "    <tr>\n",
       "      <th>1</th>\n",
       "      <td>Customer states: Vehicle suspension is noisy</td>\n",
       "      <td>No Fault Found / Unable To Replicate</td>\n",
       "      <td>Checked vehicle suspension system, no problems...</td>\n",
       "      <td>00040100</td>\n",
       "      <td>Perform Validation Test Drive</td>\n",
       "      <td>Performed validation test drive.</td>\n",
       "      <td>5388</td>\n",
       "      <td>Unable to Duplicate Concern</td>\n",
       "      <td>Vehicle suspension is noisy</td>\n",
       "      <td>Customer states: Vehicle suspension is noisy N...</td>\n",
       "      <td>Customer states: Vehicle suspension is noisy N...</td>\n",
       "    </tr>\n",
       "    <tr>\n",
       "      <th>2</th>\n",
       "      <td>Customer states: Vehicle suspension is noisy</td>\n",
       "      <td>No Fault Found / Unable To Replicate</td>\n",
       "      <td>Checked vehicle suspension system, no problems...</td>\n",
       "      <td>31010004</td>\n",
       "      <td>Front Suspension (including Hubs) General Diag...</td>\n",
       "      <td>Checked vehicle suspension system, no problems...</td>\n",
       "      <td>5388</td>\n",
       "      <td>Unable to Duplicate Concern</td>\n",
       "      <td>Vehicle suspension is noisy</td>\n",
       "      <td>Customer states: Vehicle suspension is noisy N...</td>\n",
       "      <td>Customer states: Vehicle suspension is noisy N...</td>\n",
       "    </tr>\n",
       "    <tr>\n",
       "      <th>3</th>\n",
       "      <td>Customer states vehicle charges for a couple m...</td>\n",
       "      <td>No Fault Found / Unable To Replicate</td>\n",
       "      <td>Customer is having charging issues and cause i...</td>\n",
       "      <td>44010009</td>\n",
       "      <td>Charge System Inlet General Diagnosis Conclusi...</td>\n",
       "      <td>Vehicle is experiencing charging issues. Cause...</td>\n",
       "      <td>5388</td>\n",
       "      <td>Unable to Duplicate Concern</td>\n",
       "      <td>Vehicle charges intermittently</td>\n",
       "      <td>Customer states vehicle charges for a couple m...</td>\n",
       "      <td>Customer states vehicle charges for a couple m...</td>\n",
       "    </tr>\n",
       "    <tr>\n",
       "      <th>4</th>\n",
       "      <td>Customer states vehicle charges for a couple m...</td>\n",
       "      <td>No Fault Found / Unable To Replicate</td>\n",
       "      <td>Customer is having charging issues and cause i...</td>\n",
       "      <td>44100202</td>\n",
       "      <td>Master Charger - RH - 1st Generation</td>\n",
       "      <td>Charger not installed due to it not being deem...</td>\n",
       "      <td>5388</td>\n",
       "      <td>Unable to Duplicate Concern</td>\n",
       "      <td>Vehicle charges intermittently</td>\n",
       "      <td>Customer states vehicle charges for a couple m...</td>\n",
       "      <td>Customer states vehicle charges for a couple m...</td>\n",
       "    </tr>\n",
       "  </tbody>\n",
       "</table>\n",
       "</div>"
      ],
      "text/plain": [
       "                                  ComplaintNarrative  \\\n",
       "0  Customer states: Customer has advised since th...   \n",
       "1       Customer states: Vehicle suspension is noisy   \n",
       "2       Customer states: Vehicle suspension is noisy   \n",
       "3  Customer states vehicle charges for a couple m...   \n",
       "4  Customer states vehicle charges for a couple m...   \n",
       "\n",
       "                       CauseDescription  \\\n",
       "0  No Fault Found / Unable To Replicate   \n",
       "1  No Fault Found / Unable To Replicate   \n",
       "2  No Fault Found / Unable To Replicate   \n",
       "3  No Fault Found / Unable To Replicate   \n",
       "4  No Fault Found / Unable To Replicate   \n",
       "\n",
       "                                      CauseNarrative CorrectionCode  \\\n",
       "0                                Customer education.       40100004   \n",
       "1  Checked vehicle suspension system, no problems...       00040100   \n",
       "2  Checked vehicle suspension system, no problems...       31010004   \n",
       "3  Customer is having charging issues and cause i...       44010009   \n",
       "4  Customer is having charging issues and cause i...       44100202   \n",
       "\n",
       "                               CorrectionDescription  \\\n",
       "0                       Rear Motor General Diagnosis   \n",
       "1                      Perform Validation Test Drive   \n",
       "2  Front Suspension (including Hubs) General Diag...   \n",
       "3  Charge System Inlet General Diagnosis Conclusi...   \n",
       "4               Master Charger - RH - 1st Generation   \n",
       "\n",
       "                                 CorrectionNarrative  FaultModeID  \\\n",
       "0  Hill Start Assist automatically engages the\\nb...         5388   \n",
       "1                   Performed validation test drive.         5388   \n",
       "2  Checked vehicle suspension system, no problems...         5388   \n",
       "3  Vehicle is experiencing charging issues. Cause...         5388   \n",
       "4  Charger not installed due to it not being deem...         5388   \n",
       "\n",
       "                   FailureMode  \\\n",
       "0  Unable to Duplicate Concern   \n",
       "1  Unable to Duplicate Concern   \n",
       "2  Unable to Duplicate Concern   \n",
       "3  Unable to Duplicate Concern   \n",
       "4  Unable to Duplicate Concern   \n",
       "\n",
       "                                       RollupSymptom  \\\n",
       "0  Vehicle rolled backwards while in Drive and on...   \n",
       "1                        Vehicle suspension is noisy   \n",
       "2                        Vehicle suspension is noisy   \n",
       "3                     Vehicle charges intermittently   \n",
       "4                     Vehicle charges intermittently   \n",
       "\n",
       "                                                 All  \\\n",
       "0  Customer states: Customer has advised since th...   \n",
       "1  Customer states: Vehicle suspension is noisy N...   \n",
       "2  Customer states: Vehicle suspension is noisy N...   \n",
       "3  Customer states vehicle charges for a couple m...   \n",
       "4  Customer states vehicle charges for a couple m...   \n",
       "\n",
       "                             CorrectionNarrativeRev2  \n",
       "0  Customer states: Customer has advised since th...  \n",
       "1  Customer states: Vehicle suspension is noisy N...  \n",
       "2  Customer states: Vehicle suspension is noisy N...  \n",
       "3  Customer states vehicle charges for a couple m...  \n",
       "4  Customer states vehicle charges for a couple m...  "
      ]
     },
     "execution_count": 22,
     "metadata": {},
     "output_type": "execute_result"
    }
   ],
   "source": [
    "df.head()"
   ]
  },
  {
   "cell_type": "code",
   "execution_count": 23,
   "metadata": {
    "collapsed": false
   },
   "outputs": [
    {
     "name": "stdout",
     "output_type": "stream",
     "text": [
      "<class 'pandas.core.frame.DataFrame'>\n",
      "Int64Index: 53343 entries, 0 to 95257\n",
      "Data columns (total 11 columns):\n",
      "ComplaintNarrative         53343 non-null object\n",
      "CauseDescription           53343 non-null object\n",
      "CauseNarrative             53343 non-null object\n",
      "CorrectionCode             53343 non-null object\n",
      "CorrectionDescription      53343 non-null object\n",
      "CorrectionNarrative        53343 non-null object\n",
      "FaultModeID                53343 non-null int64\n",
      "FailureMode                53343 non-null object\n",
      "RollupSymptom              53343 non-null object\n",
      "All                        53343 non-null object\n",
      "CorrectionNarrativeRev2    53343 non-null object\n",
      "dtypes: int64(1), object(10)\n",
      "memory usage: 4.9+ MB\n"
     ]
    }
   ],
   "source": [
    "df.info()"
   ]
  },
  {
   "cell_type": "code",
   "execution_count": 24,
   "metadata": {
    "collapsed": true
   },
   "outputs": [],
   "source": [
    "#null accuracy"
   ]
  },
  {
   "cell_type": "code",
   "execution_count": 25,
   "metadata": {
    "collapsed": false
   },
   "outputs": [],
   "source": [
    "null = df.FailureMode.value_counts() / df.shape[0]"
   ]
  },
  {
   "cell_type": "code",
   "execution_count": 26,
   "metadata": {
    "collapsed": false
   },
   "outputs": [
    {
     "data": {
      "text/plain": [
       "Unable to Duplicate Concern                                          0.088503\n",
       "Falcon Door Inductive Sensors - Detect Object That Is Not Present    0.037981\n",
       "Name: FailureMode, dtype: float64"
      ]
     },
     "execution_count": 26,
     "metadata": {},
     "output_type": "execute_result"
    }
   ],
   "source": [
    "null.head(2)"
   ]
  },
  {
   "cell_type": "code",
   "execution_count": 27,
   "metadata": {
    "collapsed": true
   },
   "outputs": [],
   "source": [
    "#split into training and testing sets"
   ]
  },
  {
   "cell_type": "code",
   "execution_count": 28,
   "metadata": {
    "collapsed": true
   },
   "outputs": [],
   "source": [
    "x_train, x_test, y_train, y_test = train_test_split(df.CorrectionNarrativeRev2, df.FaultModeID, random_state = 1)"
   ]
  },
  {
   "cell_type": "code",
   "execution_count": 29,
   "metadata": {
    "collapsed": true
   },
   "outputs": [],
   "source": [
    "#learn the vocabulary of the training data"
   ]
  },
  {
   "cell_type": "code",
   "execution_count": 30,
   "metadata": {
    "collapsed": false
   },
   "outputs": [
    {
     "data": {
      "text/plain": [
       "49536    Customer states: Plastic piece on driver side ...\n",
       "24362    Customer states: wind noise and  seal coming l...\n",
       "87267    Door upper glass has to be corrected Poorly Fi...\n",
       "93267    Customer states: Customer states alert for Dri...\n",
       "12230    Customer states: Autopilot Summon function doe...\n",
       "Name: CorrectionNarrativeRev2, dtype: object"
      ]
     },
     "execution_count": 30,
     "metadata": {},
     "output_type": "execute_result"
    }
   ],
   "source": [
    "x_train.head()"
   ]
  },
  {
   "cell_type": "code",
   "execution_count": 31,
   "metadata": {
    "collapsed": true
   },
   "outputs": [],
   "source": [
    "#instantiate count vectorizer"
   ]
  },
  {
   "cell_type": "code",
   "execution_count": 32,
   "metadata": {
    "collapsed": false
   },
   "outputs": [],
   "source": [
    "vect = CountVectorizer(stop_words = 'english', analyzer = lambda x: word_tokenize(x, how = 'lemma'))"
   ]
  },
  {
   "cell_type": "code",
   "execution_count": 33,
   "metadata": {
    "collapsed": false
   },
   "outputs": [],
   "source": [
    "x_train_dtm = vect.fit_transform(x_train)"
   ]
  },
  {
   "cell_type": "code",
   "execution_count": 34,
   "metadata": {
    "collapsed": true
   },
   "outputs": [],
   "source": [
    "#examine the vocabulary and document-term matrix together"
   ]
  },
  {
   "cell_type": "code",
   "execution_count": 35,
   "metadata": {
    "collapsed": false
   },
   "outputs": [],
   "source": [
    "train_arr = x_train_dtm.toarray()"
   ]
  },
  {
   "cell_type": "code",
   "execution_count": 36,
   "metadata": {
    "collapsed": true
   },
   "outputs": [],
   "source": [
    "train_features = vect.get_feature_names()"
   ]
  },
  {
   "cell_type": "code",
   "execution_count": 37,
   "metadata": {
    "collapsed": false
   },
   "outputs": [
    {
     "data": {
      "text/html": [
       "<div>\n",
       "<table border=\"1\" class=\"dataframe\">\n",
       "  <thead>\n",
       "    <tr style=\"text-align: right;\">\n",
       "      <th></th>\n",
       "      <th>''12</th>\n",
       "      <th>''12V</th>\n",
       "      <th>''12v</th>\n",
       "      <th>''Fahrzeug</th>\n",
       "      <th>''Schlsselbatterien</th>\n",
       "      <th>''To</th>\n",
       "      <th>''Vehicle</th>\n",
       "      <th>''key</th>\n",
       "      <th>'1</th>\n",
       "      <th>'12V</th>\n",
       "      <th>...</th>\n",
       "      <th>zustzliche</th>\n",
       "      <th>zustzlichen</th>\n",
       "      <th>zuweit</th>\n",
       "      <th>zwecks</th>\n",
       "      <th>zwei</th>\n",
       "      <th>zweigeteilt</th>\n",
       "      <th>zweit</th>\n",
       "      <th>zweite</th>\n",
       "      <th>zweiten</th>\n",
       "      <th>zwischen</th>\n",
       "    </tr>\n",
       "  </thead>\n",
       "  <tbody>\n",
       "    <tr>\n",
       "      <th>0</th>\n",
       "      <td>0</td>\n",
       "      <td>0</td>\n",
       "      <td>0</td>\n",
       "      <td>0</td>\n",
       "      <td>0</td>\n",
       "      <td>0</td>\n",
       "      <td>0</td>\n",
       "      <td>0</td>\n",
       "      <td>0</td>\n",
       "      <td>0</td>\n",
       "      <td>...</td>\n",
       "      <td>0</td>\n",
       "      <td>0</td>\n",
       "      <td>0</td>\n",
       "      <td>0</td>\n",
       "      <td>0</td>\n",
       "      <td>0</td>\n",
       "      <td>0</td>\n",
       "      <td>0</td>\n",
       "      <td>0</td>\n",
       "      <td>0</td>\n",
       "    </tr>\n",
       "    <tr>\n",
       "      <th>1</th>\n",
       "      <td>0</td>\n",
       "      <td>0</td>\n",
       "      <td>0</td>\n",
       "      <td>0</td>\n",
       "      <td>0</td>\n",
       "      <td>0</td>\n",
       "      <td>0</td>\n",
       "      <td>0</td>\n",
       "      <td>0</td>\n",
       "      <td>0</td>\n",
       "      <td>...</td>\n",
       "      <td>0</td>\n",
       "      <td>0</td>\n",
       "      <td>0</td>\n",
       "      <td>0</td>\n",
       "      <td>0</td>\n",
       "      <td>0</td>\n",
       "      <td>0</td>\n",
       "      <td>0</td>\n",
       "      <td>0</td>\n",
       "      <td>0</td>\n",
       "    </tr>\n",
       "    <tr>\n",
       "      <th>2</th>\n",
       "      <td>0</td>\n",
       "      <td>0</td>\n",
       "      <td>0</td>\n",
       "      <td>0</td>\n",
       "      <td>0</td>\n",
       "      <td>0</td>\n",
       "      <td>0</td>\n",
       "      <td>0</td>\n",
       "      <td>0</td>\n",
       "      <td>0</td>\n",
       "      <td>...</td>\n",
       "      <td>0</td>\n",
       "      <td>0</td>\n",
       "      <td>0</td>\n",
       "      <td>0</td>\n",
       "      <td>0</td>\n",
       "      <td>0</td>\n",
       "      <td>0</td>\n",
       "      <td>0</td>\n",
       "      <td>0</td>\n",
       "      <td>0</td>\n",
       "    </tr>\n",
       "    <tr>\n",
       "      <th>3</th>\n",
       "      <td>0</td>\n",
       "      <td>0</td>\n",
       "      <td>0</td>\n",
       "      <td>0</td>\n",
       "      <td>0</td>\n",
       "      <td>0</td>\n",
       "      <td>0</td>\n",
       "      <td>0</td>\n",
       "      <td>0</td>\n",
       "      <td>0</td>\n",
       "      <td>...</td>\n",
       "      <td>0</td>\n",
       "      <td>0</td>\n",
       "      <td>0</td>\n",
       "      <td>0</td>\n",
       "      <td>0</td>\n",
       "      <td>0</td>\n",
       "      <td>0</td>\n",
       "      <td>0</td>\n",
       "      <td>0</td>\n",
       "      <td>0</td>\n",
       "    </tr>\n",
       "    <tr>\n",
       "      <th>4</th>\n",
       "      <td>0</td>\n",
       "      <td>0</td>\n",
       "      <td>0</td>\n",
       "      <td>0</td>\n",
       "      <td>0</td>\n",
       "      <td>0</td>\n",
       "      <td>0</td>\n",
       "      <td>0</td>\n",
       "      <td>0</td>\n",
       "      <td>0</td>\n",
       "      <td>...</td>\n",
       "      <td>0</td>\n",
       "      <td>0</td>\n",
       "      <td>0</td>\n",
       "      <td>0</td>\n",
       "      <td>0</td>\n",
       "      <td>0</td>\n",
       "      <td>0</td>\n",
       "      <td>0</td>\n",
       "      <td>0</td>\n",
       "      <td>0</td>\n",
       "    </tr>\n",
       "  </tbody>\n",
       "</table>\n",
       "<p>5 rows × 29357 columns</p>\n",
       "</div>"
      ],
      "text/plain": [
       "   ''12  ''12V  ''12v  ''Fahrzeug  ''Schlsselbatterien  ''To  ''Vehicle  \\\n",
       "0     0      0      0           0                    0     0          0   \n",
       "1     0      0      0           0                    0     0          0   \n",
       "2     0      0      0           0                    0     0          0   \n",
       "3     0      0      0           0                    0     0          0   \n",
       "4     0      0      0           0                    0     0          0   \n",
       "\n",
       "   ''key  '1  '12V    ...     zustzliche  zustzlichen  zuweit  zwecks  zwei  \\\n",
       "0      0   0     0    ...              0            0       0       0     0   \n",
       "1      0   0     0    ...              0            0       0       0     0   \n",
       "2      0   0     0    ...              0            0       0       0     0   \n",
       "3      0   0     0    ...              0            0       0       0     0   \n",
       "4      0   0     0    ...              0            0       0       0     0   \n",
       "\n",
       "   zweigeteilt  zweit  zweite  zweiten  zwischen  \n",
       "0            0      0       0        0         0  \n",
       "1            0      0       0        0         0  \n",
       "2            0      0       0        0         0  \n",
       "3            0      0       0        0         0  \n",
       "4            0      0       0        0         0  \n",
       "\n",
       "[5 rows x 29357 columns]"
      ]
     },
     "execution_count": 37,
     "metadata": {},
     "output_type": "execute_result"
    }
   ],
   "source": [
    "pd.DataFrame(x_train_dtm.toarray(), columns = vect.get_feature_names()).head() #delete non-english claims (??)"
   ]
  },
  {
   "cell_type": "code",
   "execution_count": 38,
   "metadata": {
    "collapsed": true
   },
   "outputs": [],
   "source": [
    "#transform testing data into a document term matrix"
   ]
  },
  {
   "cell_type": "code",
   "execution_count": null,
   "metadata": {
    "collapsed": false
   },
   "outputs": [
    {
     "data": {
      "text/plain": [
       "24394    Customer states: Alert appeared: Park Assist D...\n",
       "8322     Customer states: Rear parking sensor is pushed...\n",
       "85775    Customer states:  Falcon Door Interior Trim ma...\n",
       "65646    Customer states: Black headliner has a hole in...\n",
       "81864    Customer states: Alert appeared: 12V Battery N...\n",
       "Name: CorrectionNarrativeRev2, dtype: object"
      ]
     },
     "execution_count": 39,
     "metadata": {},
     "output_type": "execute_result"
    }
   ],
   "source": [
    "x_test.head()"
   ]
  },
  {
   "cell_type": "code",
   "execution_count": null,
   "metadata": {
    "collapsed": true
   },
   "outputs": [],
   "source": [
    "x_test_dtm = vect.transform(x_test)"
   ]
  },
  {
   "cell_type": "code",
   "execution_count": null,
   "metadata": {
    "collapsed": false
   },
   "outputs": [],
   "source": [
    "pd.DataFrame(x_test_dtm.toarray(), columns = vect.get_feature_names()).head()"
   ]
  },
  {
   "cell_type": "code",
   "execution_count": null,
   "metadata": {
    "collapsed": false
   },
   "outputs": [],
   "source": [
    "x_train_dtm.shape"
   ]
  },
  {
   "cell_type": "code",
   "execution_count": null,
   "metadata": {
    "collapsed": false
   },
   "outputs": [],
   "source": [
    "x_test_dtm.shape"
   ]
  },
  {
   "cell_type": "code",
   "execution_count": null,
   "metadata": {
    "collapsed": true
   },
   "outputs": [],
   "source": [
    "#create df with count and token"
   ]
  },
  {
   "cell_type": "code",
   "execution_count": null,
   "metadata": {
    "collapsed": false
   },
   "outputs": [],
   "source": [
    "x_train_token_counts = pd.DataFrame({'Token': train_features, 'Count': np.sum(train_arr, axis = 0)})"
   ]
  },
  {
   "cell_type": "code",
   "execution_count": null,
   "metadata": {
    "collapsed": false
   },
   "outputs": [],
   "source": [
    "x_train_token_counts.sort_index(by = 'Count', ascending = False).head()"
   ]
  },
  {
   "cell_type": "code",
   "execution_count": null,
   "metadata": {
    "collapsed": true
   },
   "outputs": [],
   "source": [
    "#instantiate the model"
   ]
  },
  {
   "cell_type": "code",
   "execution_count": null,
   "metadata": {
    "collapsed": true
   },
   "outputs": [],
   "source": [
    "nb = MultinomialNB()"
   ]
  },
  {
   "cell_type": "code",
   "execution_count": null,
   "metadata": {
    "collapsed": false
   },
   "outputs": [],
   "source": [
    "nb.fit(x_train_dtm, y_train)"
   ]
  },
  {
   "cell_type": "code",
   "execution_count": null,
   "metadata": {
    "collapsed": false
   },
   "outputs": [],
   "source": [
    "predictions = nb.predict(x_test_dtm)"
   ]
  },
  {
   "cell_type": "code",
   "execution_count": null,
   "metadata": {
    "collapsed": false
   },
   "outputs": [],
   "source": [
    "predictions"
   ]
  },
  {
   "cell_type": "code",
   "execution_count": null,
   "metadata": {
    "collapsed": true
   },
   "outputs": [],
   "source": [
    "#model accuracy"
   ]
  },
  {
   "cell_type": "code",
   "execution_count": null,
   "metadata": {
    "collapsed": false
   },
   "outputs": [],
   "source": [
    "metrics.accuracy_score(y_test, predictions)"
   ]
  }
 ],
 "metadata": {
  "anaconda-cloud": {},
  "kernelspec": {
   "display_name": "Python [conda root]",
   "language": "python",
   "name": "conda-root-py"
  },
  "language_info": {
   "codemirror_mode": {
    "name": "ipython",
    "version": 2
   },
   "file_extension": ".py",
   "mimetype": "text/x-python",
   "name": "python",
   "nbconvert_exporter": "python",
   "pygments_lexer": "ipython2",
   "version": "2.7.12"
  }
 },
 "nbformat": 4,
 "nbformat_minor": 1
}
